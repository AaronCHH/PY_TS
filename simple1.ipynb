{
 "cells": [
  {
   "cell_type": "code",
   "execution_count": 1,
   "metadata": {},
   "outputs": [],
   "source": [
    "import os, sys, glob\n",
    "import numpy as np\n",
    "import matplotlib.pyplot as plt\n",
    "%matplotlib inline\n",
    "import pandas as pd\n",
    "import scipy as sp\n",
    "import csv\n",
    "import geopandas as gpd\n",
    "import shapely.wkt\n",
    "import matplotlib as mpl\n",
    "import seaborn as sns\n",
    "from shapely.geometry import Point, LineString"
   ]
  },
  {
   "cell_type": "code",
   "execution_count": 2,
   "metadata": {},
   "outputs": [
    {
     "name": "stdout",
     "output_type": "stream",
     "text": [
      "2000-01-01    1.232969\n",
      "2000-01-02   -0.502099\n",
      "2000-01-03   -0.721796\n",
      "2000-01-04   -0.334820\n",
      "2000-01-05   -0.886058\n",
      "2000-01-06    2.204308\n",
      "2000-01-07   -0.022938\n",
      "2000-01-08   -1.088057\n",
      "2000-01-09    1.663963\n",
      "2000-01-10   -0.338600\n",
      "2000-01-11    1.644204\n",
      "2000-01-12   -1.530955\n",
      "2000-01-13    0.636356\n",
      "2000-01-14   -1.090397\n",
      "2000-01-15    0.095487\n",
      "2000-01-16    0.226186\n",
      "2000-01-17    0.514285\n",
      "2000-01-18   -0.473158\n",
      "2000-01-19    0.724800\n",
      "2000-01-20    0.732322\n",
      "2000-01-21   -0.417684\n",
      "2000-01-22    0.451802\n",
      "2000-01-23   -0.213981\n",
      "2000-01-24   -1.425452\n",
      "2000-01-25   -0.778009\n",
      "2000-01-26   -0.711479\n",
      "2000-01-27    1.183272\n",
      "2000-01-28   -0.396128\n",
      "2000-01-29    1.148238\n",
      "2000-01-30   -0.888708\n",
      "                ...   \n",
      "2000-12-02    0.473574\n",
      "2000-12-03    0.235916\n",
      "2000-12-04    0.790739\n",
      "2000-12-05   -0.319769\n",
      "2000-12-06    0.052141\n",
      "2000-12-07    0.103803\n",
      "2000-12-08   -1.479385\n",
      "2000-12-09    0.039830\n",
      "2000-12-10   -0.491076\n",
      "2000-12-11    1.735903\n",
      "2000-12-12   -0.065820\n",
      "2000-12-13    0.296089\n",
      "2000-12-14   -0.618108\n",
      "2000-12-15   -1.524646\n",
      "2000-12-16    0.103871\n",
      "2000-12-17   -0.089624\n",
      "2000-12-18   -0.824633\n",
      "2000-12-19   -0.655368\n",
      "2000-12-20   -0.622827\n",
      "2000-12-21   -1.079725\n",
      "2000-12-22    0.519967\n",
      "2000-12-23   -0.758319\n",
      "2000-12-24    1.002457\n",
      "2000-12-25    1.110392\n",
      "2000-12-26   -1.216852\n",
      "2000-12-27    0.866741\n",
      "2000-12-28   -0.004569\n",
      "2000-12-29   -0.338225\n",
      "2000-12-30    1.056002\n",
      "2000-12-31   -0.347778\n",
      "Freq: D, Length: 366, dtype: float64\n"
     ]
    }
   ],
   "source": [
    "# 打下最紮實的AI p2-50\n",
    "n_times = 366\n",
    "ts = pd.Series(np.random.randn(n_times), \n",
    "index=pd.date_range('20000101', periods=n_times))\n",
    "print(ts)"
   ]
  },
  {
   "cell_type": "code",
   "execution_count": 3,
   "metadata": {},
   "outputs": [
    {
     "name": "stdout",
     "output_type": "stream",
     "text": [
      "2000-01-31     0.086506\n",
      "2000-02-29    -3.849482\n",
      "2000-03-31    -2.726178\n",
      "2000-04-30     1.500524\n",
      "2000-05-31     9.934922\n",
      "2000-06-30     2.102696\n",
      "2000-07-31    -0.443192\n",
      "2000-08-31    -4.477724\n",
      "2000-09-30    10.700236\n",
      "2000-10-31    -0.292884\n",
      "2000-11-30     1.674778\n",
      "2000-12-31    -0.984859\n",
      "Freq: M, dtype: float64\n"
     ]
    }
   ],
   "source": [
    "ts_m = ts.resample(\"1m\").sum()\n",
    "print(ts_m)"
   ]
  },
  {
   "cell_type": "code",
   "execution_count": 7,
   "metadata": {},
   "outputs": [
    {
     "data": {
      "text/plain": [
       "<matplotlib.axes._subplots.AxesSubplot at 0x1d129f0feb8>"
      ]
     },
     "execution_count": 7,
     "metadata": {},
     "output_type": "execute_result"
    },
    {
     "data": {
      "image/png": "[encoded data removed]",
      "text/plain": [
       "<Figure size 432x288 with 1 Axes>"
      ]
     },
     "metadata": {
      "needs_background": "light"
     },
     "output_type": "display_data"
    }
   ],
   "source": [
    "plt.figure()\n",
    "cs = ts.cumsum()\n",
    "cs.plot()"
   ]
  },
  {
   "cell_type": "code",
   "execution_count": 8,
   "metadata": {},
   "outputs": [
    {
     "data": {
      "text/plain": [
       "<matplotlib.axes._subplots.AxesSubplot at 0x1d129a6bd30>"
      ]
     },
     "execution_count": 8,
     "metadata": {},
     "output_type": "execute_result"
    },
    {
     "data": {
      "image/png": "[encoded data removed]",
      "text/plain": [
       "<Figure size 432x288 with 1 Axes>"
      ]
     },
     "metadata": {
      "needs_background": "light"
     },
     "output_type": "display_data"
    }
   ],
   "source": [
    "ts_m = ts.resample(\"1m\").sum()\n",
    "ts_m.plot.bar()"
   ]
  },
  {
   "cell_type": "code",
   "execution_count": null,
   "metadata": {},
   "outputs": [],
   "source": []
  }
 ],
 "metadata": {
  "kernelspec": {
   "display_name": "Python 3",
   "language": "python",
   "name": "python3"
  },
  "language_info": {
   "codemirror_mode": {
    "name": "ipython",
    "version": 3
   },
   "file_extension": ".py",
   "mimetype": "text/x-python",
   "name": "python",
   "nbconvert_exporter": "python",
   "pygments_lexer": "ipython3",
   "version": "3.7.3"
  },
  "toc": {
   "base_numbering": 1,
   "nav_menu": {},
   "number_sections": true,
   "sideBar": true,
   "skip_h1_title": false,
   "title_cell": "Table of Contents",
   "title_sidebar": "Contents",
   "toc_cell": false,
   "toc_position": {},
   "toc_section_display": true,
   "toc_window_display": false
  }
 },
 "nbformat": 4,
 "nbformat_minor": 2
}
